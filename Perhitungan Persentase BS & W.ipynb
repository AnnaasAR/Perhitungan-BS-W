{
  "nbformat": 4,
  "nbformat_minor": 0,
  "metadata": {
    "colab": {
      "name": "Tugas.ipynb",
      "provenance": []
    },
    "kernelspec": {
      "name": "python3",
      "display_name": "Python 3"
    },
    "language_info": {
      "name": "python"
    }
  },
  "cells": [
    {
      "cell_type": "code",
      "execution_count": null,
      "metadata": {
        "colab": {
          "base_uri": "https://localhost:8080/"
        },
        "id": "zTHVpCbae5SE",
        "outputId": "195f4d97-2791-478b-d633-8e876d64370f"
      },
      "outputs": [
        {
          "output_type": "stream",
          "name": "stdout",
          "text": [
            "Tube 1\n",
            "Masukkan volume sampel : 12\n",
            "Masukkan volume minyak : 12\n",
            "Volume BS & W =  0.0\n",
            "Persentase BS & W =  0 %\n",
            "\n",
            "Tube 2\n"
          ]
        }
      ],
      "source": [
        "print(\"Tube 1\")\n",
        "vs1 = input(\"Masukkan volume sampel : \")\n",
        "vm1 = input(\"Masukkan volume minyak : \")\n",
        "\n",
        "vbsw1 = float(vs1)-float(vm1)\n",
        "print(\"Volume BS & W = \",\"%.1f\" % vbsw1)\n",
        "bswpercent1 = (float(vbsw1)/float(vs1))*100\n",
        "print(\"Persentase BS & W = \",\"%.0f\" % bswpercent1, \"%\")\n",
        "print()\n",
        "\n",
        "print(\"Tube 2\")\n",
        "vs2 = input(\"Masukkan volume sampel : \")\n",
        "vm2 = input(\"Masukkan volume minyak : \")\n",
        "\n",
        "vbsw2 = float(vs2)-float(vm2)\n",
        "print(\"Volume BS & W = \",\"%.1f\" % vbsw2)\n",
        "bswpercent2 = (float(vbsw2)/float(vs2))*100\n",
        "print(\"Persentase BS & W = \",\"%.0f\" % bswpercent2, \"%\")\n",
        "print()\n",
        "\n",
        "print(\"Tube 3\")\n",
        "vs3 = input(\"Masukkan volume sampel : \")\n",
        "vm3 = input(\"Masukkan volume minyak : \")\n",
        "\n",
        "vbsw3 = float(vs3)-float(vm3)\n",
        "print(\"Volume BS & W = \",\"%.1f\" % vbsw3)\n",
        "bswpercent3 = (float(vbsw3)/float(vs3))*100\n",
        "print(\"Persentase BS & W = \",\"%.0f\" % bswpercent3, \"%\")\n",
        "print()\n",
        "\n",
        "print(\"Tube 4\")\n",
        "vs4 = input(\"Masukkan volume sampel : \")\n",
        "vm4 = input(\"Masukkan volume minyak : \")\n",
        "\n",
        "vbsw4 = float(vs4)-float(vm4)\n",
        "print(\"Volume BS & W = \",\"%.1f\" % vbsw4)\n",
        "bswpercent4 = (float(vbsw4)/float(vs4))*100\n",
        "print(\"Persentase BS & W = \",\"%.0f\" % bswpercent4, \"%\")\n",
        "print()\n",
        "\n",
        "rataratavbsw = (vbsw1+vbsw2+vbsw3+vbsw4)/4\n",
        "rataratabswpercent = (bswpercent1+bswpercent2+bswpercent3+bswpercent4)/4\n",
        "\n",
        "print(\"Rata-rata Volume BS & W = \",\"%.3f\" % rataratavbsw, \"mL\")\n",
        "print(\"Rata-rata Persentase BS & W = \",\"%.2f\" % rataratabswpercent, \"%\")"
      ]
    }
  ]
}